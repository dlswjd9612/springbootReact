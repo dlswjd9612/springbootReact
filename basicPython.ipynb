{
 "cells": [
  {
   "cell_type": "code",
   "execution_count": 31,
   "id": "34c1dbbf-3b1b-468f-8f2a-31ce956294dc",
   "metadata": {},
   "outputs": [
    {
     "data": {
      "text/plain": [
       "'C:\\\\Users\\\\Administrator'"
      ]
     },
     "execution_count": 31,
     "metadata": {},
     "output_type": "execute_result"
    }
   ],
   "source": [
    "pwd"
   ]
  },
  {
   "cell_type": "code",
   "execution_count": 19,
   "id": "03019baa-6e1b-4cae-bd1f-21feed503763",
   "metadata": {},
   "outputs": [],
   "source": [
    "a=6"
   ]
  },
  {
   "cell_type": "markdown",
   "id": "68aec814-2d18-4689-927b-cd6f615b9496",
   "metadata": {},
   "source": [
    "<a href=\"https://pynative.com/wp-content/uploads/2021/02/dictionaries-in-python.jpg\">dictionary</a>"
   ]
  },
  {
   "cell_type": "markdown",
   "id": "66fe31d3-524f-4589-b22b-d2091dc13672",
   "metadata": {
    "jupyter": {
     "source_hidden": true
    }
   },
   "source": [
    "<img src=\"images/1.jpg\"/>"
   ]
  },
  {
   "cell_type": "markdown",
   "id": "1153ef5f-8599-4915-b18c-957334f5040c",
   "metadata": {},
   "source": [
    "<h1> dictionary </h1>\n",
    "<h4> 딕셔너리는 키와 value의 쌍으로 이루어진 데이터 => 자바 스크립트의 객체와동일</h4>"
   ]
  },
  {
   "cell_type": "code",
   "execution_count": 25,
   "id": "158ba05e-f105-4793-ba5e-bc454ee5ac64",
   "metadata": {},
   "outputs": [],
   "source": [
    "a={'a':6} # dictionary(객체)"
   ]
  },
  {
   "cell_type": "code",
   "execution_count": null,
   "id": "0b31e24a-d5a1-41cc-a894-d9b4990678ce",
   "metadata": {},
   "outputs": [],
   "source": [
    "b=[1,2,3] # list(배열)"
   ]
  },
  {
   "cell_type": "code",
   "execution_count": 27,
   "id": "9cc53938-acfa-4040-b8a1-bbb3bf0c5fdb",
   "metadata": {},
   "outputs": [
    {
     "data": {
      "text/plain": [
       "{'a': 6, 'b': 13}"
      ]
     },
     "execution_count": 27,
     "metadata": {},
     "output_type": "execute_result"
    }
   ],
   "source": [
    "a['b'] =13\n",
    "a"
   ]
  },
  {
   "cell_type": "code",
   "execution_count": null,
   "id": "f660f176-b7b7-4fec-a7ea-74d5723311e2",
   "metadata": {},
   "outputs": [],
   "source": []
  },
  {
   "cell_type": "code",
   "execution_count": null,
   "id": "a141f4ff-626e-4b75-abcd-362f27bd6d0f",
   "metadata": {},
   "outputs": [],
   "source": []
  },
  {
   "cell_type": "code",
   "execution_count": null,
   "id": "97d33bdb-2fc3-44ae-b9d0-388ff7436cd1",
   "metadata": {},
   "outputs": [],
   "source": []
  },
  {
   "cell_type": "code",
   "execution_count": null,
   "id": "ab484ef3-9784-4781-abe3-7704fc3a57c3",
   "metadata": {},
   "outputs": [],
   "source": []
  }
 ],
 "metadata": {
  "kernelspec": {
   "display_name": "Python [conda env:base] *",
   "language": "python",
   "name": "conda-base-py"
  },
  "language_info": {
   "codemirror_mode": {
    "name": "ipython",
    "version": 3
   },
   "file_extension": ".py",
   "mimetype": "text/x-python",
   "name": "python",
   "nbconvert_exporter": "python",
   "pygments_lexer": "ipython3",
   "version": "3.12.7"
  }
 },
 "nbformat": 4,
 "nbformat_minor": 5
}
